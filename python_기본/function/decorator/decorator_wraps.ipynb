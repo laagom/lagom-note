{
 "cells": [
  {
   "cell_type": "markdown",
   "metadata": {},
   "source": [
    "### wraps\n",
    "함수 또한 객체이기 때문에 다양한 속성과 행동을 가지고 있다."
   ]
  },
  {
   "cell_type": "code",
   "execution_count": 1,
   "metadata": {},
   "outputs": [
    {
     "name": "stdout",
     "output_type": "stream",
     "text": [
      "function 실행\n",
      "4\n"
     ]
    }
   ],
   "source": [
    "def function(a, b):\n",
    "    print(\"function 실행\")\n",
    "    return a + b\n",
    "\n",
    "print(function(1, 3))"
   ]
  },
  {
   "cell_type": "code",
   "execution_count": 2,
   "metadata": {},
   "outputs": [
    {
     "name": "stdout",
     "output_type": "stream",
     "text": [
      "function\n"
     ]
    }
   ],
   "source": [
    "print(function.__name__)"
   ]
  },
  {
   "cell_type": "markdown",
   "metadata": {},
   "source": [
    "__name__ 이라는 속성값에, 함수를 처음 정의할때 사용한 이름이 저장되어 있다."
   ]
  },
  {
   "cell_type": "code",
   "execution_count": 4,
   "metadata": {},
   "outputs": [
    {
     "name": "stdout",
     "output_type": "stream",
     "text": [
      "function 실행\n"
     ]
    },
    {
     "data": {
      "text/plain": [
       "30"
      ]
     },
     "execution_count": 4,
     "metadata": {},
     "output_type": "execute_result"
    }
   ],
   "source": [
    "func = function\n",
    "\n",
    "func(10, 20)"
   ]
  },
  {
   "cell_type": "code",
   "execution_count": 5,
   "metadata": {},
   "outputs": [
    {
     "name": "stdout",
     "output_type": "stream",
     "text": [
      "function\n"
     ]
    }
   ],
   "source": [
    "print(func.__name__)"
   ]
  },
  {
   "cell_type": "markdown",
   "metadata": {},
   "source": [
    "다른 이름을 통해 해당 함수를 호출하더라도 동일하게 __name__이 나오는 것을 확인 할 수 있다.\n",
    "\n",
    "이러한 함수의 이름 정보(__name__)은 만약 함수를 다른변수에 지정하더라도 호출하거나, 다른함수에 인자로 보내는 경우에도 어떤 하수인지 알 수 있다."
   ]
  },
  {
   "cell_type": "code",
   "execution_count": 14,
   "metadata": {},
   "outputs": [
    {
     "name": "stdout",
     "output_type": "stream",
     "text": [
      "함수 이름 : function\n"
     ]
    }
   ],
   "source": [
    "def check_func_name(func):\n",
    "    print(f'함수 이름 : {func.__name__}')\n",
    "\n",
    "check_func_name(func)"
   ]
  },
  {
   "cell_type": "code",
   "execution_count": 6,
   "metadata": {},
   "outputs": [
    {
     "name": "stdout",
     "output_type": "stream",
     "text": [
      "데코레이터 적용한 함수\n",
      "22\n"
     ]
    }
   ],
   "source": [
    "def decorator(func):\n",
    "    def exec_func(*args, **kwards):\n",
    "        print(\"데코레이터 적용한 함수\")\n",
    "        result = func(*args, **kwards)\n",
    "        return result\n",
    "    return exec_func\n",
    "\n",
    "@decorator\n",
    "def add_a_b(a, b):\n",
    "    return a+b\n",
    "\n",
    "print(add_a_b(10, 12))"
   ]
  },
  {
   "cell_type": "markdown",
   "metadata": {},
   "source": [
    "add_a_b함수에 decorator를 적용시켜봤다. \n",
    "- '데코레이터 적용한 함수'를 출력해주는 간단한 데코레이터를 만들어 봤다.\n",
    "\n",
    "위에서 만든 check_func_name함수를 적용해 보겠다."
   ]
  },
  {
   "cell_type": "code",
   "execution_count": 9,
   "metadata": {},
   "outputs": [
    {
     "name": "stdout",
     "output_type": "stream",
     "text": [
      "함수 이름 : exec_func\n"
     ]
    }
   ],
   "source": [
    "check_func_name(add_a_b)"
   ]
  },
  {
   "cell_type": "markdown",
   "metadata": {},
   "source": [
    "위와 같이 호출 했을 때 add_a_b가 나오길 바랬지만 나오는 출력값은 check_func_name의 실행 함수인 exec_func가 나오는 것을 확인 할 수 있다.\n",
    "\n",
    "1. decorator함수안에서 exec_func이라는 새로운 함수를 만들어서 리턴했기 때문에, 원본 함수의 정보가 사라진것이다.\n",
    "2. 여기서 __name__정보가 훼손된걸 확인 했지만 이러한 방식으로 새로운 함수를 만들어서 리턴해주는 방식은 기존 함수가 가진 다른 다양한 정보들도 훼손이된다.\n",
    "3. 이렇게 원본 함수에 대한 정보가 사라지지 않도록 하기 위한 특별한 함수가 내장함수 wraps이다."
   ]
  },
  {
   "cell_type": "code",
   "execution_count": 11,
   "metadata": {},
   "outputs": [],
   "source": [
    "from functools import wraps\n",
    "\n",
    "def decorator(func):\n",
    "    @wraps(func)\n",
    "    def exec_func(*args, **kwards):\n",
    "        print('데코레이터 적용한 함수')\n",
    "        result = func(*args, **kwards)\n",
    "        return result\n",
    "    return exec_func"
   ]
  },
  {
   "cell_type": "code",
   "execution_count": 19,
   "metadata": {},
   "outputs": [],
   "source": [
    "def decorator(func):\n",
    "\n",
    "    def exec_func(*args, **kwards):\n",
    "        print('데코레이터 적용한 함수')\n",
    "        result = func(*args, **kwards)\n",
    "        return result\n",
    "    return wraps(func)(exec_func)"
   ]
  },
  {
   "cell_type": "code",
   "execution_count": 12,
   "metadata": {},
   "outputs": [
    {
     "name": "stdout",
     "output_type": "stream",
     "text": [
      "함수 이름 : add_a_b\n"
     ]
    }
   ],
   "source": [
    "@decorator\n",
    "def add_a_b(a, b):\n",
    "    return a+b\n",
    "\n",
    "check_func_name(add_a_b)"
   ]
  }
 ],
 "metadata": {
  "kernelspec": {
   "display_name": "Python 3.10.8 64-bit",
   "language": "python",
   "name": "python3"
  },
  "language_info": {
   "codemirror_mode": {
    "name": "ipython",
    "version": 3
   },
   "file_extension": ".py",
   "mimetype": "text/x-python",
   "name": "python",
   "nbconvert_exporter": "python",
   "pygments_lexer": "ipython3",
   "version": "3.10.8 (main, Oct 13 2022, 09:48:40) [Clang 14.0.0 (clang-1400.0.29.102)]"
  },
  "orig_nbformat": 4,
  "vscode": {
   "interpreter": {
    "hash": "b0fa6594d8f4cbf19f97940f81e996739fb7646882a419484c72d19e05852a7e"
   }
  }
 },
 "nbformat": 4,
 "nbformat_minor": 2
}
