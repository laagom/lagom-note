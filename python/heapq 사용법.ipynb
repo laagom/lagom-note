{
 "cells": [
  {
   "cell_type": "markdown",
   "id": "b3415fa8",
   "metadata": {},
   "source": [
    "## 모듈 불러오기"
   ]
  },
  {
   "cell_type": "code",
   "execution_count": 1,
   "id": "4c928cd9",
   "metadata": {},
   "outputs": [],
   "source": [
    "from heapq import heappush, heappop"
   ]
  },
  {
   "cell_type": "markdown",
   "id": "5cf89dbf",
   "metadata": {},
   "source": [
    "## 힙 생성"
   ]
  },
  {
   "cell_type": "code",
   "execution_count": 2,
   "id": "847b7dc2",
   "metadata": {},
   "outputs": [],
   "source": [
    "heap = []"
   ]
  },
  {
   "cell_type": "markdown",
   "id": "600d1ce5",
   "metadata": {},
   "source": [
    "## 힙에 원소 추가"
   ]
  },
  {
   "cell_type": "code",
   "execution_count": 5,
   "id": "5f9ec9d2",
   "metadata": {},
   "outputs": [
    {
     "name": "stdout",
     "output_type": "stream",
     "text": [
      "[1, 3, 5, 8, 4, 7]\n"
     ]
    }
   ],
   "source": [
    "from heapq import heappush, heappop\n",
    "\n",
    "heap = []\n",
    "\n",
    "heappush(heap, 4)\n",
    "heappush(heap, 1)\n",
    "heappush(heap, 7)\n",
    "heappush(heap, 8)\n",
    "heappush(heap, 3)\n",
    "heappush(heap, 5)\n",
    "\n",
    "print(heap)\n",
    "\n",
    "\n"
   ]
  },
  {
   "cell_type": "markdown",
   "id": "c1953751",
   "metadata": {},
   "source": [
    "## 힙에서 원소 삭제"
   ]
  },
  {
   "cell_type": "code",
   "execution_count": 6,
   "id": "eb07f639",
   "metadata": {},
   "outputs": [
    {
     "name": "stdout",
     "output_type": "stream",
     "text": [
      "[3, 4, 5, 8, 7]\n"
     ]
    }
   ],
   "source": [
    "from heapq import heappush, heappop\n",
    "\n",
    "heappop(heap)\n",
    "\n",
    "print(heap)"
   ]
  },
  {
   "cell_type": "code",
   "execution_count": 7,
   "id": "e18baba2",
   "metadata": {},
   "outputs": [
    {
     "name": "stdout",
     "output_type": "stream",
     "text": [
      "[4, 7, 5, 8]\n"
     ]
    }
   ],
   "source": [
    "heappop(heap)\n",
    "\n",
    "print(heap)"
   ]
  },
  {
   "cell_type": "code",
   "execution_count": 8,
   "id": "ea63d657",
   "metadata": {},
   "outputs": [
    {
     "name": "stdout",
     "output_type": "stream",
     "text": [
      "[5, 7, 8]\n"
     ]
    }
   ],
   "source": [
    "heappop(heap)\n",
    "\n",
    "print(heap)"
   ]
  },
  {
   "cell_type": "markdown",
   "id": "69542abc",
   "metadata": {},
   "source": [
    "## 최소값 삭제하지 않고 접근하기"
   ]
  },
  {
   "cell_type": "code",
   "execution_count": 9,
   "id": "506a122b",
   "metadata": {},
   "outputs": [
    {
     "name": "stdout",
     "output_type": "stream",
     "text": [
      "5\n"
     ]
    }
   ],
   "source": [
    "print(heap[0])"
   ]
  },
  {
   "cell_type": "code",
   "execution_count": 10,
   "id": "33d11f6c",
   "metadata": {},
   "outputs": [],
   "source": [
    "heappush(heap, 1)"
   ]
  },
  {
   "cell_type": "code",
   "execution_count": 11,
   "id": "3f0506cd",
   "metadata": {},
   "outputs": [
    {
     "name": "stdout",
     "output_type": "stream",
     "text": [
      "1\n"
     ]
    }
   ],
   "source": [
    "print(heap[0])"
   ]
  },
  {
   "cell_type": "code",
   "execution_count": 12,
   "id": "ee07234e",
   "metadata": {},
   "outputs": [
    {
     "name": "stdout",
     "output_type": "stream",
     "text": [
      "[1, 5, 8, 7]\n"
     ]
    }
   ],
   "source": [
    "print(heap)"
   ]
  },
  {
   "cell_type": "markdown",
   "id": "c410c5a5",
   "metadata": {},
   "source": [
    "## 기존 리스트를 힙으로 변환"
   ]
  },
  {
   "cell_type": "code",
   "execution_count": 13,
   "id": "2554370e",
   "metadata": {},
   "outputs": [
    {
     "name": "stdout",
     "output_type": "stream",
     "text": [
      "[1, 3, 5, 4, 8, 7]\n"
     ]
    }
   ],
   "source": [
    "from heapq import heapify\n",
    "heap = [4, 1, 7, 3, 8, 5]\n",
    "heapify(heap)\n",
    "\n",
    "print(heap)"
   ]
  },
  {
   "cell_type": "code",
   "execution_count": 15,
   "id": "1db9233a",
   "metadata": {},
   "outputs": [
    {
     "name": "stdout",
     "output_type": "stream",
     "text": [
      "[4, 1, 7, 3, 8, 5]\n",
      "[1, 3, 5, 4, 8, 7]\n"
     ]
    }
   ],
   "source": [
    "nums = [4, 1, 7, 3, 8, 5]\n",
    "\n",
    "heap = nums[:]\n",
    "heapify(heap)\n",
    "\n",
    "print(nums)\n",
    "print(heap)"
   ]
  },
  {
   "cell_type": "markdown",
   "id": "dbb3daa7",
   "metadata": {},
   "source": [
    "## [응용] 최대 힙"
   ]
  },
  {
   "cell_type": "code",
   "execution_count": 17,
   "id": "93ef926a",
   "metadata": {},
   "outputs": [
    {
     "name": "stdout",
     "output_type": "stream",
     "text": [
      "8\n",
      "7\n",
      "5\n",
      "3\n",
      "3\n",
      "1\n"
     ]
    }
   ],
   "source": [
    "from heapq import heappush, heappop\n",
    "\n",
    "nums = [3, 1, 7, 3, 8, 5]\n",
    "heap = []\n",
    "\n",
    "for num in nums:\n",
    "    heappush(heap, (-num, num))\n",
    "    \n",
    "while heap:\n",
    "    print(heappop(heap)[1])"
   ]
  },
  {
   "cell_type": "markdown",
   "id": "61014f42",
   "metadata": {},
   "source": [
    "## [응용] n번째 최소값/최대값"
   ]
  },
  {
   "cell_type": "code",
   "execution_count": 24,
   "id": "38ecdcc4",
   "metadata": {},
   "outputs": [
    {
     "name": "stdout",
     "output_type": "stream",
     "text": [
      "5\n"
     ]
    }
   ],
   "source": [
    "from heapq import heappush, heappop, heapify\n",
    "\n",
    "def nth_smallest(nums, n):\n",
    "    heap = []\n",
    "    for num in nums:\n",
    "        heappush(heap, num)\n",
    "        \n",
    "    nth_min = None\n",
    "    for _ in range(n):\n",
    "        nth_min = heappop(heap)\n",
    "    \n",
    "    return nth_min\n",
    "\n",
    "print(nth_smallest([3, 1, 7, 3, 8, 5], 4))"
   ]
  },
  {
   "cell_type": "code",
   "execution_count": 26,
   "id": "c94d75f0",
   "metadata": {},
   "outputs": [
    {
     "name": "stdout",
     "output_type": "stream",
     "text": [
      "5\n"
     ]
    }
   ],
   "source": [
    "from heapq import heappush, heappop, heapify\n",
    "\n",
    "def nth_smallest(nums, n):\n",
    "    heap = nums[:]\n",
    "    heapify(nums)\n",
    "        \n",
    "    nth_min = None\n",
    "    for _ in range(n):\n",
    "        nth_min = heappop(heap)\n",
    "    \n",
    "    return nth_min\n",
    "\n",
    "print(nth_smallest([3, 1, 7, 3, 8, 5], 4))"
   ]
  },
  {
   "cell_type": "code",
   "execution_count": 28,
   "id": "9eb453b0",
   "metadata": {},
   "outputs": [
    {
     "name": "stdout",
     "output_type": "stream",
     "text": [
      "[1, 3, 3]\n",
      "3\n"
     ]
    }
   ],
   "source": [
    "from heapq import nsmallest\n",
    "\n",
    "print(nsmallest(3, [3, 1, 7, 3, 8, 5]))\n",
    "print(nsmallest(3, [3, 1, 7, 3, 8, 5])[-1])"
   ]
  },
  {
   "cell_type": "code",
   "execution_count": 33,
   "id": "b29574f5",
   "metadata": {},
   "outputs": [
    {
     "name": "stdout",
     "output_type": "stream",
     "text": [
      "[8]\n"
     ]
    }
   ],
   "source": [
    "from heapq import nlargest\n",
    "\n",
    "print(nlargest(1, [3, 1, 7, 3, 8, 5]))"
   ]
  },
  {
   "cell_type": "markdown",
   "id": "82dd1382",
   "metadata": {},
   "source": [
    "## [응용] 힙 정렬"
   ]
  },
  {
   "cell_type": "code",
   "execution_count": 31,
   "id": "82089c71",
   "metadata": {},
   "outputs": [
    {
     "name": "stdout",
     "output_type": "stream",
     "text": [
      "[1, 3, 3, 5, 7, 8]\n"
     ]
    }
   ],
   "source": [
    "from heapq import heappush, heappop\n",
    "\n",
    "def heap_sort(nums):\n",
    "    heap = []\n",
    "    for num in nums:\n",
    "        heappush(heap, num)\n",
    "    \n",
    "    sorted_nums = []\n",
    "    \n",
    "    while heap:\n",
    "        sorted_nums.append(heappop(heap))\n",
    "    \n",
    "    return sorted_nums\n",
    "\n",
    "print(heap_sort([3, 1, 7, 3, 8, 5]))"
   ]
  }
 ],
 "metadata": {
  "kernelspec": {
   "display_name": "Python 3.10.8 64-bit",
   "language": "python",
   "name": "python3"
  },
  "language_info": {
   "codemirror_mode": {
    "name": "ipython",
    "version": 3
   },
   "file_extension": ".py",
   "mimetype": "text/x-python",
   "name": "python",
   "nbconvert_exporter": "python",
   "pygments_lexer": "ipython3",
   "version": "3.10.8 (main, Oct 13 2022, 09:48:40) [Clang 14.0.0 (clang-1400.0.29.102)]"
  },
  "vscode": {
   "interpreter": {
    "hash": "b0fa6594d8f4cbf19f97940f81e996739fb7646882a419484c72d19e05852a7e"
   }
  }
 },
 "nbformat": 4,
 "nbformat_minor": 5
}
