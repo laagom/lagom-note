{
 "cells": [
  {
   "cell_type": "markdown",
   "metadata": {},
   "source": [
    "## 1. 개별 데이터 정의하기"
   ]
  },
  {
   "cell_type": "markdown",
   "metadata": {},
   "source": [
    "1. (3, 5)\n",
    "2. (0, 0), (0, 3), (4, 3)\n",
    "3. (2, 2), (2, 6), (6, 6), (6, 2)"
   ]
  },
  {
   "cell_type": "markdown",
   "metadata": {},
   "source": [
    "\n",
    "### 1-1. 좌표평면 위의 점과 도형\n",
    "컬렉션을 중첩해서 복잡한 구조의 정보를 표현할 수 있다. 위의 숫자값은 x, y축을 가진 평면의 좌표값이다."
   ]
  },
  {
   "cell_type": "code",
   "execution_count": 2,
   "metadata": {},
   "outputs": [],
   "source": [
    "coordinate_1 = {'x' : 5, 'y' : 3}   # 점 (좌표)\n",
    "\n",
    "triangle_1 = {                      # 삼각형\n",
    "    'point_a' : {'x' : 0, 'y' : 0}, #   삼각형의 각 쪽지점을 \n",
    "    'point_b' : {'x' : 3, 'y' : 0}, #   좌표로 나타냈다\n",
    "    'point_c' : {'x' : 3, 'y' : 4},\n",
    "}\n",
    "\n",
    "rectangle_1 = {                     # 사각형\n",
    "    'point_a' : {'x' : 2, 'y' : 2}, #   꼭지점이 네 개라서\n",
    "    'point_b' : {'x' : 6, 'y' : 2}, #   좌표도 네 개다\n",
    "    'point_c' : {'x' : 6, 'y' : 2},\n",
    "    'point_d' : {'x' : 2, 'y' : 6},\n",
    "}"
   ]
  },
  {
   "cell_type": "markdown",
   "metadata": {},
   "source": [
    "### 1-2. 두 점의 거리와 도형의 둘레를 계산하는 함수"
   ]
  },
  {
   "cell_type": "code",
   "execution_count": 3,
   "metadata": {},
   "outputs": [
    {
     "name": "stdout",
     "output_type": "stream",
     "text": [
      "12.0\n",
      "13.65685424949238\n"
     ]
    }
   ],
   "source": [
    "import math # 제곱근(math.sqrt()) 계산을 위해 수학 모듈 임포트\n",
    "\n",
    "def square(x):\n",
    "    '''전달받은 수의 제곱을 반환한다.'''\n",
    "    return x * x\n",
    "\n",
    "\n",
    "\n",
    "def distance(point_a, point_b):\n",
    "    '''두 점 사이의 거리를 계산해 반환한다. (피타고라스의 정리)'''\n",
    "    return math.sqrt(square(point_a['x'] - point_b['x']) + square(point_a['y'] - point_b['y'])) \n",
    "\n",
    "def circumference_of_triangle(shape):\n",
    "    '''삼각형 데이터를 전달받아 둘레를 구해 반환한다.'''\n",
    "    a_to_b = distance(shape['point_a'], shape['point_b'])\n",
    "    b_to_c = distance(shape['point_b'], shape['point_c'])\n",
    "    c_to_a = distance(shape['point_c'], shape['point_a'])\n",
    "\n",
    "    return a_to_b + b_to_c + c_to_a\n",
    "\n",
    "def circumference_of_rectangle(shape):\n",
    "    '''사각형 데이터를 전달받아 둘레를 구해 반환한다.'''\n",
    "    a_to_b = distance(shape['point_a'], shape['point_b'])\n",
    "    b_to_c = distance(shape['point_b'], shape['point_c'])\n",
    "    c_to_d = distance(shape['point_c'], shape['point_d'])\n",
    "    d_to_a = distance(shape['point_d'], shape['point_a'])\n",
    "\n",
    "    return a_to_b + b_to_c + c_to_d + d_to_a\n",
    "\n",
    "print(circumference_of_triangle(triangle_1))\n",
    "print(circumference_of_rectangle(rectangle_1))"
   ]
  },
  {
   "cell_type": "markdown",
   "metadata": {},
   "source": [
    "### 1.3 개별 데이터를 정의하기 위한 유형을 약속하기"
   ]
  },
  {
   "cell_type": "markdown",
   "metadata": {},
   "source": [
    "데이터를 단 하나만 정의하고 사용할 때는 상관이 없지만, 동일한 범주의 데이터를 여럿 정의 할 때는 문제가 생길 수 있다. 컬렉션을 활용해 복잡한 데이터 구조를 나타낼 때, 그 구조를 쌓아올리는 방식이 여러 가지일 수 있기 때문이다."
   ]
  },
  {
   "cell_type": "code",
   "execution_count": 4,
   "metadata": {},
   "outputs": [],
   "source": [
    "coordinate_2 = (3, 5)                   # 점 (좌표)\n",
    "\n",
    "triangle_2 = ((0, 0), (0, 3), (4, 3))   # 삼각형\n",
    "\n",
    "rectangle_2 = {                         # 사각형\n",
    "    'point' : (2, 2), \n",
    "    'width' : 4, \n",
    "    'height' : 4\n",
    "}"
   ]
  },
  {
   "cell_type": "code",
   "execution_count": 5,
   "metadata": {},
   "outputs": [
    {
     "ename": "TypeError",
     "evalue": "tuple indices must be integers or slices, not str",
     "output_type": "error",
     "traceback": [
      "\u001b[0;31m---------------------------------------------------------------------------\u001b[0m",
      "\u001b[0;31mTypeError\u001b[0m                                 Traceback (most recent call last)",
      "Cell \u001b[0;32mIn [5], line 1\u001b[0m\n\u001b[0;32m----> 1\u001b[0m \u001b[39mprint\u001b[39m(circumference_of_triangle(triangle_2))\n",
      "Cell \u001b[0;32mIn [3], line 13\u001b[0m, in \u001b[0;36mcircumference_of_triangle\u001b[0;34m(shape)\u001b[0m\n\u001b[1;32m     11\u001b[0m \u001b[39mdef\u001b[39;00m \u001b[39mcircumference_of_triangle\u001b[39m(shape):\n\u001b[1;32m     12\u001b[0m     \u001b[39m'''삼각현 데이터를 전달받아 둘레를 구해 반환한다.'''\u001b[39;00m\n\u001b[0;32m---> 13\u001b[0m     a_to_b \u001b[39m=\u001b[39m distance(shape[\u001b[39m'\u001b[39;49m\u001b[39mpoint_a\u001b[39;49m\u001b[39m'\u001b[39;49m], shape[\u001b[39m'\u001b[39m\u001b[39mpoint_b\u001b[39m\u001b[39m'\u001b[39m])\n\u001b[1;32m     14\u001b[0m     b_to_c \u001b[39m=\u001b[39m distance(shape[\u001b[39m'\u001b[39m\u001b[39mpoint_b\u001b[39m\u001b[39m'\u001b[39m], shape[\u001b[39m'\u001b[39m\u001b[39mpoint_c\u001b[39m\u001b[39m'\u001b[39m])\n\u001b[1;32m     15\u001b[0m     c_to_a \u001b[39m=\u001b[39m distance(shape[\u001b[39m'\u001b[39m\u001b[39mpoint_c\u001b[39m\u001b[39m'\u001b[39m], shape[\u001b[39m'\u001b[39m\u001b[39mpoint_a\u001b[39m\u001b[39m'\u001b[39m])\n",
      "\u001b[0;31mTypeError\u001b[0m: tuple indices must be integers or slices, not str"
     ]
    }
   ],
   "source": [
    "print(circumference_of_triangle(triangle_2))"
   ]
  },
  {
   "cell_type": "markdown",
   "metadata": {},
   "source": [
    "### 1.4 데이터 유형마다 구조를 주석으로 정해놓기"
   ]
  },
  {
   "cell_type": "code",
   "execution_count": null,
   "metadata": {},
   "outputs": [],
   "source": [
    "# 유형: '좌표'는 다음 키를 갖는 사전이다.\n",
    "#     * 'x': x 축의 위치 (정수)\n",
    "#     * 'y': y 축의 위치 (정수)\n",
    "coordinate_1 = {'x': 5, 'y': 3}\n",
    "\n",
    "# 유형: '삼각형'은 다음 키를 갖는 사전이다.\n",
    "#     * 'point_a': 첫번째 점의 위치 (좌표)\n",
    "#     * 'point_b': 두번째 점의 위치 (좌표)\n",
    "#     * 'point_c': 세번째 점의 위치 (좌표)\n",
    "triangle_1 = {\n",
    "    'point_a': {'x': 0, 'y': 0},\n",
    "    'point_b': {'x': 3, 'y': 0},\n",
    "    'point_c': {'x': 3, 'y': 4},\n",
    "}\n",
    "\n",
    "# 유형: '사각형'은 다음 키를 갖는 사전이다.\n",
    "#     * 'point_a': 첫번째 점의 위치 (좌표)\n",
    "#     * 'point_b': 두번째 점의 위치 (좌표)\n",
    "#     * 'point_c': 세번째 점의 위치 (좌표)\n",
    "#     * 'point_d': 네번째 점의 위치 (좌표)\n",
    "rectangle_1 = {\n",
    "    'point_a': {'x': 2, 'y': 2},\n",
    "    'point_b': {'x': 6, 'y': 2},\n",
    "    'point_c': {'x': 6, 'y': 6},\n",
    "    'point_d': {'x': 2, 'y': 6},\n",
    "}"
   ]
  },
  {
   "cell_type": "markdown",
   "metadata": {},
   "source": [
    "### 연습문제 체스말, 바둑돌 정의하기"
   ]
  },
  {
   "cell_type": "code",
   "execution_count": 6,
   "metadata": {},
   "outputs": [],
   "source": [
    "# 이곳에 체스말 데이터 유형 정의하기\n",
    "체스말1 = {'x': 'A', 'y': '8', 'color': 'black', 'role': '룩'}\n",
    "체스말2 = {'x': 'E', 'y': '1', 'color': 'white', 'role': '킹'}\n",
    "\n",
    "# 이곳에 바둑돌 데이터 유형 정의하기\n",
    "바둑돌1 = {'x': 8, 'y': 14, 'order': 83, 'color': '흑'}\n",
    "바둑돌2 = {'x': 12, 'y': 3, 'order': 84, 'color': '백'}"
   ]
  },
  {
   "cell_type": "markdown",
   "metadata": {},
   "source": [
    "### 1.5 둘레 계산 함수를 일반 함수로 정의하기 (잘못 된 방법)"
   ]
  },
  {
   "cell_type": "code",
   "execution_count": 7,
   "metadata": {},
   "outputs": [
    {
     "name": "stdout",
     "output_type": "stream",
     "text": [
      "None\n",
      "None\n"
     ]
    }
   ],
   "source": [
    "def circumference(shape):\n",
    "    \"\"\"도형 데이터를 전달받아 둘레를 구해 반환한다.\"\"\"\n",
    "    if type(shape) == '삼각형':    # ❶ 도형의 데이터 유형이 '삼각형'인 경우\n",
    "        a_to_b = distance(shape['point_a'], shape['point_b'])\n",
    "        b_to_c = distance(shape['point_b'], shape['point_c'])\n",
    "        c_to_a = distance(shape['point_c'], shape['point_a'])\n",
    "\n",
    "        return a_to_b + b_to_c + c_to_a\n",
    "    \n",
    "    elif type(shape) == '사각형':  # ❷ 도형의 데이터 유형이 '사각형'인 경우\n",
    "        a_to_b = distance(shape['point_a'], shape['point_b'])\n",
    "        b_to_c = distance(shape['point_b'], shape['point_c'])\n",
    "        c_to_d = distance(shape['point_c'], shape['point_d'])\n",
    "        d_to_a = distance(shape['point_d'], shape['point_a'])\n",
    "        \n",
    "        return a_to_b + b_to_c + c_to_d + d_to_a\n",
    "    \n",
    "    else:                          # ❸ 지원하지 않는 유형인 경우\n",
    "        return None\n",
    "\n",
    "# ❹ 잠깐! 삼각형과 사각형을 함수에 대입해보면, 의도와 달리 None이 반환된다!\n",
    "print(circumference(triangle_1))   # None\n",
    "print(circumference(rectangle_1))  # None"
   ]
  },
  {
   "cell_type": "code",
   "execution_count": 8,
   "metadata": {},
   "outputs": [
    {
     "name": "stdout",
     "output_type": "stream",
     "text": [
      "<class 'dict'>\n",
      "<class 'dict'>\n"
     ]
    }
   ],
   "source": [
    "print(type(triangle_1))   # <class 'dict'>\n",
    "print(type(rectangle_1))  # <class 'dict'>"
   ]
  },
  {
   "cell_type": "markdown",
   "metadata": {},
   "source": [
    "### 1.6 데이터 유형을 나타내는 정보를 사전에 추가"
   ]
  },
  {
   "cell_type": "code",
   "execution_count": 13,
   "metadata": {},
   "outputs": [],
   "source": [
    "triangle_3 = {\n",
    "    'type': '삼각형',             # 데이터의 유형을 나타내는 정보\n",
    "    'point_a': {'x': 0, 'y': 0},\n",
    "    'point_b': {'x': 3, 'y': 0},\n",
    "    'point_c': {'x': 3, 'y': 4},\n",
    "}\n",
    "\n",
    "rectangle_3 = {\n",
    "    'type': '사각형',             # 데이터의 유형을 나타내는 정보\n",
    "    'point_a': {'x': 2, 'y': 2},\n",
    "    'point_b': {'x': 6, 'y': 2},\n",
    "    'point_c': {'x': 6, 'y': 6},\n",
    "    'point_d': {'x': 2, 'y': 6},\n",
    "}"
   ]
  },
  {
   "cell_type": "markdown",
   "metadata": {},
   "source": [
    "### 1.7 둘레 계산 함수를 일반 함수로 정의하기 (수정된 방법)"
   ]
  },
  {
   "cell_type": "code",
   "execution_count": 15,
   "metadata": {},
   "outputs": [
    {
     "name": "stdout",
     "output_type": "stream",
     "text": [
      "12.0\n",
      "16.0\n"
     ]
    }
   ],
   "source": [
    "def circumference(shape):\n",
    "    \"\"\"도형 데이터를 전달받아 둘레를 구해 반환한다.\"\"\"\n",
    "    \n",
    "    if shape['type'] == '삼각형':    # type() 함수 대신 인덱싱 연산 사용\n",
    "\n",
    "        a_to_b = distance(shape['point_a'], shape['point_b'])\n",
    "        b_to_c = distance(shape['point_b'], shape['point_c'])\n",
    "        c_to_a = distance(shape['point_c'], shape['point_a'])\n",
    "        return a_to_b + b_to_c + c_to_a\n",
    "    \n",
    "    elif shape['type'] == '사각형':  # type() 함수 대신 인덱싱 연산 사용\n",
    "\n",
    "        a_to_b = distance(shape['point_a'], shape['point_b'])\n",
    "        b_to_c = distance(shape['point_b'], shape['point_c'])\n",
    "        c_to_d = distance(shape['point_c'], shape['point_d'])\n",
    "        d_to_a = distance(shape['point_d'], shape['point_a'])\n",
    "        \n",
    "        return a_to_b + b_to_c + c_to_d + d_to_a\n",
    "    \n",
    "    else:\n",
    "        return None\n",
    "\n",
    "print(circumference(triangle_3))   # 12.0\n",
    "print(circumference(rectangle_3))  # 16.0"
   ]
  }
 ],
 "metadata": {
  "kernelspec": {
   "display_name": "Python 3.10.8 64-bit",
   "language": "python",
   "name": "python3"
  },
  "language_info": {
   "codemirror_mode": {
    "name": "ipython",
    "version": 3
   },
   "file_extension": ".py",
   "mimetype": "text/x-python",
   "name": "python",
   "nbconvert_exporter": "python",
   "pygments_lexer": "ipython3",
   "version": "3.10.8 (main, Oct 13 2022, 09:48:40) [Clang 14.0.0 (clang-1400.0.29.102)]"
  },
  "orig_nbformat": 4,
  "vscode": {
   "interpreter": {
    "hash": "b0fa6594d8f4cbf19f97940f81e996739fb7646882a419484c72d19e05852a7e"
   }
  }
 },
 "nbformat": 4,
 "nbformat_minor": 2
}
