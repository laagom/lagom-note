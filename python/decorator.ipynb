{
 "cells": [
  {
   "cell_type": "markdown",
   "metadata": {},
   "source": [
    "## 데코레이터\n",
    "Python에는 객체는 변수에 저장된 주소로 호출된다. 그렇기 때문에 함수객체를 담은 변수를 다른 함수에 인자로 넘겨서 호출하는 것이 가능하다. 그리고 함수 안에서 새로운 함수를 만들어서 객체를 리턴할 수 있다."
   ]
  },
  {
   "cell_type": "markdown",
   "metadata": {},
   "source": [
    "이러한 특성을 활용하여 함수를 받아 새로운 함수를 만들 수 있다."
   ]
  },
  {
   "cell_type": "code",
   "execution_count": 4,
   "metadata": {},
   "outputs": [
    {
     "name": "stdout",
     "output_type": "stream",
     "text": [
      "3\n",
      "30\n"
     ]
    }
   ],
   "source": [
    "def calc(op):\n",
    "    if op == '+':\n",
    "        return lambda x, y : x + y\n",
    "    if op == '-':\n",
    "        return lambda x, y : x - y\n",
    "    if op == '*':\n",
    "        return lambda x, y : x * y\n",
    "    if op == '/':\n",
    "        return lambda x, y : x / y\n",
    "\n",
    "plus = calc('+')\n",
    "print(plus(1, 2))\n",
    "\n",
    "mul = calc('*')\n",
    "print(mul(10, 3))"
   ]
  },
  {
   "cell_type": "markdown",
   "metadata": {},
   "source": [
    "함수를 인자를 받아서, 함수 전후에 새로운 기능을 추가한 함수를 만들수도 있다."
   ]
  },
  {
   "cell_type": "markdown",
   "metadata": {},
   "source": [
    "### 함수 시작과 종료를 알려주는 함수"
   ]
  },
  {
   "cell_type": "code",
   "execution_count": 1,
   "metadata": {},
   "outputs": [
    {
     "name": "stdout",
     "output_type": "stream",
     "text": [
      "함수를 시작합니다.\n",
      "함수를 종료합니다.\n"
     ]
    },
    {
     "data": {
      "text/plain": [
       "256"
      ]
     },
     "execution_count": 1,
     "metadata": {},
     "output_type": "execute_result"
    }
   ],
   "source": [
    "def get_big_num(n):\n",
    "    return n ** n\n",
    "\n",
    "def make_func_alarm(func):\n",
    "    def exec_func(*args, **kwards):\n",
    "        print(\"함수를 시작합니다.\")\n",
    "        result = func(*args, ** kwards)\n",
    "        print(\"함수를 종료합니다.\")\n",
    "        return result\n",
    "    return exec_func\n",
    "\n",
    "new_func = make_func_alarm(get_big_num)\n",
    "new_func(4)"
   ]
  },
  {
   "cell_type": "markdown",
   "metadata": {},
   "source": [
    "1. 위와 같이 **get_big_num()** 함수는 N값을 받아 n의 n제곱 승을 만드는 함수이다.\n",
    "\n",
    "2. 이 특정 함수를 실행만 시키는 것이 아닌 전후로 다른 작업을 추가하여 실행을 시키고 싶어 **make_func_alarm()** 함수를 만들어 함수가 시작하고 종료한다는 문구를 출력해주는 코드를 추가하였다.\n",
    "\n",
    "3. make_func_alarm()함수 안에는 인자 값을 받은 func을 실행시키는 exec_func() 함수가 존재하며 이 안에서 func을 실행 시키며 전후로 다른 작업을 추가하여 줬다."
   ]
  },
  {
   "cell_type": "markdown",
   "metadata": {},
   "source": [
    "### 시간 측정\n",
    "위의 작업을 단순히 시작, 종료를 알려주는 함수(make_func_alarm)가 아닌 실행 시간을 측정하는 기능으로 만들어서 리턴시켜 보자"
   ]
  },
  {
   "cell_type": "code",
   "execution_count": 17,
   "metadata": {},
   "outputs": [
    {
     "name": "stdout",
     "output_type": "stream",
     "text": [
      "1668240306.8805969\n",
      "1668240306.880638\n"
     ]
    }
   ],
   "source": [
    "import time\n",
    "print(time.time())\n",
    "\n",
    "print(time.time())"
   ]
  },
  {
   "cell_type": "markdown",
   "metadata": {},
   "source": [
    "위의 time 모듈의 time함수를 통해 함수가 시작할때와 끝날때 시각의 차이로 함수가 실행된 시간을 알 수 있다."
   ]
  },
  {
   "cell_type": "code",
   "execution_count": 2,
   "metadata": {},
   "outputs": [
    {
     "name": "stdout",
     "output_type": "stream",
     "text": [
      "실행시간: 9.5367431640625e-07\n"
     ]
    },
    {
     "data": {
      "text/plain": [
       "256"
      ]
     },
     "execution_count": 2,
     "metadata": {},
     "output_type": "execute_result"
    }
   ],
   "source": [
    "import time\n",
    "\n",
    "def make_func_checker(func):\n",
    "    def exec_func(*args, **kwards):\n",
    "\n",
    "        start_time = time.time()\n",
    "\n",
    "        result = func(*args, ** kwards)\n",
    "\n",
    "        print(f'실행시간: {time.time() - start_time}')\n",
    "        \n",
    "        return result\n",
    "    return exec_func\n",
    "\n",
    "new_func = make_func_checker(get_big_num)\n",
    "new_func(4)"
   ]
  },
  {
   "cell_type": "markdown",
   "metadata": {},
   "source": []
  },
  {
   "cell_type": "markdown",
   "metadata": {},
   "source": [
    "1. 위와 같이 함수를 받아서, 원본함수를 변경하지 않고 앞 뒤에 새로운 작업을 추가한 새로운 함수를 생성하는 방식은 유용하다.\n",
    "\n",
    "2. 시간을 체크하는 함수는 어떠한 문제를 해결하는 함수를 여러개 만들어서 실행속도를 비교하여, 가장 좋은 함수를 찾을 수 있다.\n",
    "\n",
    "3. 하지만 여기서 new_func = make_time_checker(big_number) 이렇게 함수를 체크할 때마나 선언을 해줘야 한다는 불편함이 존재한다.\n",
    "\n",
    "=> **여기서 사용하는 것이 바로 데코레이터 개념이다**<br>"
   ]
  },
  {
   "cell_type": "code",
   "execution_count": 4,
   "metadata": {},
   "outputs": [
    {
     "name": "stdout",
     "output_type": "stream",
     "text": [
      "실행시간: 0.0000009537\n",
      "get_big_num() : 7625597484987\n",
      "실행시간: 0.0000157356\n",
      "get_big_num2() : 1911012597945477520356404559703964599198081048990094337139512789246520530242615803012059386519739850265586440155794462235359212788673806972288410146915986602087961896757195701839281660338047611225975533626101001482651123413147768252411493094447176965282756285196737514395357542479093219206641883011787169122552421070050709064674382870851449950256586194461543183511379849133691779928127433840431549236855526783596374102105331546031353725325748636909159778690328266459182983815230286936572873691422648131291743762136325730321645282979486862576245362218017673224940567642819360078720713837072355305446356153946401185348493792719514594505508232749221605848912910945189959948686199543147666938013037176163592594479746164220050885079469804487133205133160739134230540198872570038329801246050197013467397175909027389493923817315786996845899794781068042822436093783946335265422815704302832442385515082316490967285712171708123232790481817268327510112746782317410985888683708522000711733492253913322300756147180429007527677793352306200618286012455254243061006894805446584704820650982664319360960388736258510747074340636286976576702699258649953557976318173902550891331223294743930343956161328334072831663498258145226862004307799084688103804187368324800903873596212919633602583120781673673742533322879296907205490595621406888825991244581842379597863476484315673760923625090371511798941424262270220066286486867868710182980872802560693101949280830825044198424796792058908817112327192301455582916746795197430548026404646854002733993860798594465961501752586965811447568510041568687730903712482535343839285397598749458497050038225012489284001826590056251286187629938044407340142347062055785305325034918189589707199305662188512963187501743535960282201038211616048545121039313312256332260766436236688296850208839496142830484739113991669622649948563685234712873294796680884509405893951104650944137909502276545653133018670633521323028460519434381399810561400652595300731790772711065783494174642684720956134647327748584238274899668755052504394218232191357223054066715373374248543645663782045701654593218154053548393614250664498585403307466468541890148134347714650315037954175778622811776585876941680908203125\n"
     ]
    }
   ],
   "source": [
    "import time\n",
    "\n",
    "def make_func_checker(func):\n",
    "    def exec_func(*args, **kwards):\n",
    "        start_time = time.time()\n",
    "        result = func(*args, **kwards)\n",
    "        print(f'실행시간: {time.time() - start_time:.10f}')\n",
    "        return result\n",
    "    return exec_func\n",
    "\n",
    "@make_func_checker\n",
    "def get_big_num(n):\n",
    "    return n ** n ** n\n",
    "\n",
    "@make_func_checker\n",
    "def get_big_num2(n):\n",
    "    return (n+1) ** (n+1) ** (n+1)\n",
    "\n",
    "print(f'get_big_num() : {get_big_num(3)}')\n",
    "print(f'get_big_num2() : {get_big_num2(4)}')"
   ]
  },
  {
   "cell_type": "code",
   "execution_count": 33,
   "metadata": {},
   "outputs": [
    {
     "name": "stdout",
     "output_type": "stream",
     "text": [
      "실행시간: 0.0000019073\n",
      "1\n",
      "실행시간: 0.0000021458\n",
      "7625597484987\n"
     ]
    }
   ],
   "source": [
    "import time\n",
    "\n",
    "def make_func_checker(func):\n",
    "    def exec_func(*args, **kwards):\n",
    "        start_time = time.time()\n",
    "        result = func(*args, ** kwards)\n",
    "        print(f'실행시간: {time.time() - start_time:.10f}')\n",
    "        return result\n",
    "    return exec_func\n",
    "\n",
    "def get_big_num(n):\n",
    "    return n ** n ** n\n",
    "\n",
    "def get_big_num2(n):\n",
    "    return (n+1) ** (n+1) ** (n+1)\n",
    "\n",
    "new_func = make_func_checker(get_big_num)\n",
    "print(new_func(1))\n",
    "\n",
    "new_func2 = make_func_checker(get_big_num2)\n",
    "print(new_func2(2))"
   ]
  },
  {
   "cell_type": "markdown",
   "metadata": {},
   "source": []
  }
 ],
 "metadata": {
  "kernelspec": {
   "display_name": "Python 3",
   "language": "python",
   "name": "python3"
  },
  "language_info": {
   "codemirror_mode": {
    "name": "ipython",
    "version": 3
   },
   "file_extension": ".py",
   "mimetype": "text/x-python",
   "name": "python",
   "nbconvert_exporter": "python",
   "pygments_lexer": "ipython3",
   "version": "3.10.8 (main, Oct 13 2022, 09:48:40) [Clang 14.0.0 (clang-1400.0.29.102)]"
  },
  "orig_nbformat": 4,
  "vscode": {
   "interpreter": {
    "hash": "8a5edab282632443219e051e4ade2d1d5bbc671c781051bf1437897cbdfea0f1"
   }
  }
 },
 "nbformat": 4,
 "nbformat_minor": 2
}
