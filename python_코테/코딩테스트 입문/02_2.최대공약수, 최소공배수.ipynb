{
 "cells": [
  {
   "cell_type": "markdown",
   "metadata": {},
   "source": [
    "### 최대공약수 & 최소공배수"
   ]
  },
  {
   "cell_type": "code",
   "execution_count": 1,
   "metadata": {},
   "outputs": [
    {
     "name": "stdout",
     "output_type": "stream",
     "text": [
      "2\n",
      "60\n"
     ]
    }
   ],
   "source": [
    "a, b = 10, 12\n",
    "\n",
    "# 최소 공배수\n",
    "def lcm(a, b):\n",
    "    for i in range(max(a, b), (a*b) +1):\n",
    "        if i%a == 0 and i%b == 0:\n",
    "            return i\n",
    "            break\n",
    "\n",
    "# 최대 공약수\n",
    "def gcd(a, b):\n",
    "    for i in range(min(a, b), 0, -1):\n",
    "        if a%i == 0 and b%i ==0:\n",
    "            return i\n",
    "            break\n",
    "\n",
    "print(gcd(a, b))\n",
    "print(lcm(a, b))"
   ]
  },
  {
   "cell_type": "markdown",
   "metadata": {},
   "source": [
    "### 유클리드 호제법"
   ]
  },
  {
   "cell_type": "code",
   "execution_count": 10,
   "metadata": {},
   "outputs": [
    {
     "name": "stdout",
     "output_type": "stream",
     "text": [
      "2\n",
      "60.0\n"
     ]
    }
   ],
   "source": [
    "# 최대공약수\n",
    "def gcd(a, b):\n",
    "    while b > 0:\n",
    "        a, b = b, a % b\n",
    "    return a\n",
    "\n",
    "# 최소공배수\n",
    "def lcm(a, b):\n",
    "    return a * b / gcd(a, b)\n",
    "\n",
    "print(gcd(10, 12))\n",
    "\n",
    "print(lcm(10, 12))"
   ]
  }
 ],
 "metadata": {
  "kernelspec": {
   "display_name": "Python 3.10.8 64-bit",
   "language": "python",
   "name": "python3"
  },
  "language_info": {
   "codemirror_mode": {
    "name": "ipython",
    "version": 3
   },
   "file_extension": ".py",
   "mimetype": "text/x-python",
   "name": "python",
   "nbconvert_exporter": "python",
   "pygments_lexer": "ipython3",
   "version": "3.10.8"
  },
  "orig_nbformat": 4,
  "vscode": {
   "interpreter": {
    "hash": "b0fa6594d8f4cbf19f97940f81e996739fb7646882a419484c72d19e05852a7e"
   }
  }
 },
 "nbformat": 4,
 "nbformat_minor": 2
}
