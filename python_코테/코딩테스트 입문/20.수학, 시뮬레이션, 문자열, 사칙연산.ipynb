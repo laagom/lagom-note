{
 "cells": [
  {
   "cell_type": "markdown",
   "metadata": {},
   "source": [
    "### 직사각형 넓이 구하기"
   ]
  },
  {
   "cell_type": "code",
   "execution_count": 1,
   "metadata": {},
   "outputs": [],
   "source": [
    "def solution(dots):\n",
    "    answer = 0\n",
    "    \n",
    "    #width = max() x값 - min() x값\n",
    "    #heith = max() y값 - min() y값\n",
    "    \n",
    "    width = max([dot[0] for dot in dots])-min([dot[0] for dot in dots])\n",
    "\n",
    "    \n",
    "    height = max([dot[1] for dot in dots])-min([dot[1] for dot in dots])\n",
    "          \n",
    "    return width*height"
   ]
  },
  {
   "cell_type": "code",
   "execution_count": 2,
   "metadata": {},
   "outputs": [
    {
     "data": {
      "text/plain": [
       "1"
      ]
     },
     "execution_count": 2,
     "metadata": {},
     "output_type": "execute_result"
    }
   ],
   "source": [
    "solution([[1, 1], [2, 1], [2, 2], [1, 2]])"
   ]
  },
  {
   "cell_type": "code",
   "execution_count": 3,
   "metadata": {},
   "outputs": [
    {
     "data": {
      "text/plain": [
       "4"
      ]
     },
     "execution_count": 3,
     "metadata": {},
     "output_type": "execute_result"
    }
   ],
   "source": [
    "solution([[-1, -1], [1, 1], [1, -1], [-1, 1]])"
   ]
  },
  {
   "cell_type": "markdown",
   "metadata": {},
   "source": [
    "### 캐릭터의 좌표"
   ]
  },
  {
   "cell_type": "code",
   "execution_count": 4,
   "metadata": {},
   "outputs": [],
   "source": [
    "\n",
    "def solution(keyinput, board):\n",
    "    col = board[0]\n",
    "    row = board[1]\n",
    "    result = [0, 0]\n",
    "    \n",
    "    for key in keyinput:\n",
    "        if key == \"left\" and result[0]-1 >= -(col // 2):\n",
    "            result[0] -= 1\n",
    "        elif key == \"right\" and result[0]+1 <= (col // 2):\n",
    "            result[0] += 1\n",
    "        elif key == \"up\" and result[1]+1 <= (row // 2):\n",
    "            result[1] += 1\n",
    "        elif key == \"down\" and result[1]-1 >= -(row // 2):\n",
    "            result[1] -= 1\n",
    "    return result"
   ]
  },
  {
   "cell_type": "code",
   "execution_count": 5,
   "metadata": {},
   "outputs": [
    {
     "data": {
      "text/plain": [
       "[2, 1]"
      ]
     },
     "execution_count": 5,
     "metadata": {},
     "output_type": "execute_result"
    }
   ],
   "source": [
    "solution([\"left\", \"right\", \"up\", \"right\", \"right\"], [11, 11])"
   ]
  },
  {
   "cell_type": "code",
   "execution_count": 6,
   "metadata": {},
   "outputs": [
    {
     "data": {
      "text/plain": [
       "[0, -4]"
      ]
     },
     "execution_count": 6,
     "metadata": {},
     "output_type": "execute_result"
    }
   ],
   "source": [
    "solution([\"down\", \"down\", \"down\", \"down\", \"down\"], [7, 9])"
   ]
  },
  {
   "cell_type": "markdown",
   "metadata": {},
   "source": [
    "### 최대값 만들기(2)"
   ]
  },
  {
   "cell_type": "code",
   "execution_count": null,
   "metadata": {},
   "outputs": [],
   "source": [
    "def solution(numbers): \n",
    "    temp = sorted(numbers)\n",
    "    \n",
    "    return temp[0]*temp[1] if temp[0]*temp[1] > temp[-1]*temp[-2] else temp[-1]*temp[-2]"
   ]
  },
  {
   "cell_type": "code",
   "execution_count": null,
   "metadata": {},
   "outputs": [
    {
     "data": {
      "text/plain": [
       "15"
      ]
     },
     "metadata": {},
     "output_type": "display_data"
    }
   ],
   "source": [
    "solution([1, 2, -3, 4, -5])"
   ]
  },
  {
   "cell_type": "code",
   "execution_count": null,
   "metadata": {},
   "outputs": [
    {
     "data": {
      "text/plain": [
       "240"
      ]
     },
     "metadata": {},
     "output_type": "display_data"
    }
   ],
   "source": [
    "solution([0, -31, 24, 10, 1, 9])"
   ]
  },
  {
   "cell_type": "code",
   "execution_count": null,
   "metadata": {},
   "outputs": [
    {
     "data": {
      "text/plain": [
       "600"
      ]
     },
     "metadata": {},
     "output_type": "display_data"
    }
   ],
   "source": [
    "solution([10, 20, 30, 5, 5, 20, 5])"
   ]
  },
  {
   "cell_type": "markdown",
   "metadata": {},
   "source": [
    "### 다항식 더하기"
   ]
  },
  {
   "cell_type": "code",
   "execution_count": 7,
   "metadata": {},
   "outputs": [],
   "source": [
    "def solution(polynomial):\n",
    "    answer = ''\n",
    "    \n",
    "    temp  = polynomial.split(' ')\n",
    "    x_num = 0\n",
    "    num   = 0\n",
    "    \n",
    "    for char in temp:\n",
    "        if 'x' in char and len(char) > 1:\n",
    "            x_num += int(char.replace('x', ''))\n",
    "        elif 'x' in char and len(char) == 1:\n",
    "            x_num += 1\n",
    "        elif char != '+':\n",
    "            num += int(char)\n",
    "    \n",
    "    if x_num == 0 and num == 0:\n",
    "        answer = '0'\n",
    "    elif x_num == 0 and num != 0:\n",
    "        answer = f'{num}'\n",
    "    elif x_num != 0 and num == 0:\n",
    "        answer = f'{x_num}x'\n",
    "        if x_num == 1:\n",
    "            answer = f'x'\n",
    "    elif x_num != 0 and num != 0:\n",
    "        answer = f'{x_num}x + {num}'\n",
    "        if x_num == 1:\n",
    "            answer = f'x + {num}'\n",
    "\n",
    "    return answer"
   ]
  },
  {
   "cell_type": "code",
   "execution_count": 8,
   "metadata": {},
   "outputs": [
    {
     "data": {
      "text/plain": [
       "'4x + 7'"
      ]
     },
     "execution_count": 8,
     "metadata": {},
     "output_type": "execute_result"
    }
   ],
   "source": [
    "solution(\"3x + 7 + x\")"
   ]
  },
  {
   "cell_type": "code",
   "execution_count": 9,
   "metadata": {},
   "outputs": [
    {
     "data": {
      "text/plain": [
       "'3x'"
      ]
     },
     "execution_count": 9,
     "metadata": {},
     "output_type": "execute_result"
    }
   ],
   "source": [
    "solution(\"x + x + x\")"
   ]
  }
 ],
 "metadata": {
  "kernelspec": {
   "display_name": "Python 3.11.0 64-bit",
   "language": "python",
   "name": "python3"
  },
  "language_info": {
   "codemirror_mode": {
    "name": "ipython",
    "version": 3
   },
   "file_extension": ".py",
   "mimetype": "text/x-python",
   "name": "python",
   "nbconvert_exporter": "python",
   "pygments_lexer": "ipython3",
   "version": "3.11.0"
  },
  "orig_nbformat": 4,
  "vscode": {
   "interpreter": {
    "hash": "5c7b89af1651d0b8571dde13640ecdccf7d5a6204171d6ab33e7c296e100e08a"
   }
  }
 },
 "nbformat": 4,
 "nbformat_minor": 2
}
