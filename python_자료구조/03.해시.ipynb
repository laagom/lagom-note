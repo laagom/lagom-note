{
 "cells": [
  {
   "attachments": {},
   "cell_type": "markdown",
   "metadata": {},
   "source": [
    "# [Python 자료구조] Hash(해시)\n",
    "파이썬에서 해시(Hash)는 어떻게 구현을 해야할까?<br/>\n",
    "해시(Hash)구조는 파이썬에서 Dictionary라는 자료구조를 통해 해시를 제공한다. 그리고 Dictionary는 dict클래스에 구현되었다."
   ]
  },
  {
   "cell_type": "markdown",
   "metadata": {},
   "source": [
    "## 해시(Hash)를 언제 사용하면 좋을까?\n",
    "### 📌 리스트를 사용할 수 없을 때\n",
    "리스트는 숫자 인덱스를 이용하여 원소에 접근하는데 list[1]은 접근이 가능하지만 list['a']는 접근이 불가능하다.<br/>\n",
    "인덱스 값이 아닌 문자열을 이용하려고 할때 딕셔너리를 사용하면 좋을 것이다.\n",
    "### 📌 빠른 접근 / 탐색이 필요할때\n",
    "아래에서 표로 정리해 놓았지만, 딕셔너리 함수의 시간복잡도는 대부분 O(1)이므로 아주 빠른 자료구조이다.\n",
    "### 📌 집계가 필요할 때\n",
    "원소의 개수를 세는 문제는 코딩 테스트에서 많이 출제되는 문제이다. 이때 해시와, collections 모듈의 Counter클래스를 사용하면<br/>\n",
    "아주 빠르게 문제를 풀 수 있을 것이다."
   ]
  },
  {
   "attachments": {},
   "cell_type": "markdown",
   "metadata": {},
   "source": [
    "## 딕셔너리와 리스트의 시간 복잡도 차이\n",
    "위의 설명에서 딕셔너리의 시간 복잡도는 대부분 O(1)을 갖는다고 했다. 아래 표를 이용하여 리스트와 시간복잡도를 비교해 보자.\n",
    "\n",
    "|Operation|Dictionary|List|\n",
    "|---------|----------|----|\n",
    "|**Get Item**|O(1)|O(1)|\n",
    "|**Inser Item**|O(1)|O(1)~O(N)|\n",
    "|**Update Item**|O(1)|O(1)|\n",
    "|**Delete Item**|O(1)|O(1)~O(N)|\n",
    "|**Search Item**|O(1)|O(N)|\n",
    "\n",
    "List에 비해 Dictionary가 매우 빠른 시간복잡도를 갖는 것을 볼 수 있다.<br/>\n",
    "즉, 원소를 넣거나 삭제, 찾는 일이 많을 때에는 딕셔너리를 사용하는 것이 좋다.<br/>"
   ]
  },
  {
   "cell_type": "markdown",
   "metadata": {},
   "source": [
    "## Dictionary 사용법\n",
    "### 📌 Init\n",
    "{}를 사용하거나 dict함수 호출 시 빈 딕셔너리를 선언할 수 있다.<br/>\n",
    "key-value쌍을 갖는 dictionary선언도 바로 가능하다."
   ]
  },
  {
   "cell_type": "code",
   "execution_count": 1,
   "metadata": {},
   "outputs": [],
   "source": [
    "# 빈딕셔너리 생성\n",
    "dict1 = {}\n",
    "dict2 = dict()"
   ]
  },
  {
   "cell_type": "code",
   "execution_count": 2,
   "metadata": {},
   "outputs": [],
   "source": [
    "# 특정 key-value쌍을 가진 dictionary 선언\n",
    "Dog = {\n",
    "    'name': '군밤',\n",
    "    'weight': '4',\n",
    "    'height': '100'\n",
    "}"
   ]
  },
  {
   "cell_type": "code",
   "execution_count": 3,
   "metadata": {},
   "outputs": [],
   "source": [
    "# dictionary를 value로 가지는 dictionary 선언\n",
    "Animals = {\n",
    "    'Dog' : {\n",
    "        'name': '군밤',\n",
    "        'weight': '4',\n",
    "        'height': '100'\n",
    "    },\n",
    "    'Cat' : {\n",
    "        'name': '먀오',\n",
    "        'weight': '2',\n",
    "        'height': '65'\n",
    "    }\n",
    "}"
   ]
  },
  {
   "cell_type": "markdown",
   "metadata": {},
   "source": [
    "### 📌 Get\n",
    "1. [] 사용하기\n",
    "2. get 메소드 이용하기\n",
    "\n",
    "get메소드는 get(key, x)로 이용할 수 있다. 이는 '딕셔너리에 key가 없는 경우, x를 리턴'라는 용도이다.</br>\n",
    "딕셔너리를 카운터하는 (집계)경우에 get함수가 유용하게 사용된다."
   ]
  },
  {
   "cell_type": "code",
   "execution_count": 4,
   "metadata": {},
   "outputs": [
    {
     "data": {
      "text/plain": [
       "180"
      ]
     },
     "execution_count": 4,
     "metadata": {},
     "output_type": "execute_result"
    }
   ],
   "source": [
    "# [] 기호 사용해 원소 가져오기\n",
    "dict = {'하이': 300, '헬로': 180, 3: 5}\n",
    "dict['헬로'] # 180"
   ]
  },
  {
   "cell_type": "code",
   "execution_count": 5,
   "metadata": {},
   "outputs": [
    {
     "data": {
      "text/plain": [
       "0"
      ]
     },
     "execution_count": 5,
     "metadata": {},
     "output_type": "execute_result"
    }
   ],
   "source": [
    "# get 메소드를 이용해 원소 가져오기 1\n",
    "# 딕셔너리에 해당 key가 없을때 Key Error를 내는 대신, 특정한 값을 가져온다.\n",
    "dict = {'하이': 300, '헬로': 180}\n",
    "dict.get('동동', 0) # 0"
   ]
  },
  {
   "cell_type": "code",
   "execution_count": 6,
   "metadata": {},
   "outputs": [
    {
     "data": {
      "text/plain": [
       "300"
      ]
     },
     "execution_count": 6,
     "metadata": {},
     "output_type": "execute_result"
    }
   ],
   "source": [
    "# get 메소드를 이용해 원소 가져오기 2\n",
    "# 물론, 딕셔너리에 해당 key가 있는 경우 대응하는 value를 가져온다.\n",
    "dict = {'하이': 300, '헬로': 180}\n",
    "dict.get('하이', 0) # 300"
   ]
  },
  {
   "cell_type": "markdown",
   "metadata": {},
   "source": [
    "### 📌 Set\n",
    "딕셔너리에 값을 집어넣거나, 값을 업데이트 할때 []를 사용한다.\n"
   ]
  },
  {
   "cell_type": "code",
   "execution_count": 7,
   "metadata": {},
   "outputs": [
    {
     "data": {
      "text/plain": [
       "{'김철수': 300, 'Anna': 180, '홍길동': 100}"
      ]
     },
     "execution_count": 7,
     "metadata": {},
     "output_type": "execute_result"
    }
   ],
   "source": [
    "# 값 집어넣기\n",
    "dict = {'김철수': 300, 'Anna': 180}\n",
    "dict['홍길동'] = 100\n",
    "dict #{'Anna': 180, '김철수': 300, '홍길동': 100}"
   ]
  },
  {
   "cell_type": "code",
   "execution_count": 8,
   "metadata": {},
   "outputs": [
    {
     "data": {
      "text/plain": [
       "{'김철수': 500, 'Anna': 180}"
      ]
     },
     "execution_count": 8,
     "metadata": {},
     "output_type": "execute_result"
    }
   ],
   "source": [
    "# 값 수정하기1\n",
    "dict = {'김철수': 300, 'Anna': 180}\n",
    "dict['김철수'] = 500\n",
    "dict # {'Anna': 180, '김철수': 500}"
   ]
  },
  {
   "cell_type": "code",
   "execution_count": 9,
   "metadata": {},
   "outputs": [
    {
     "data": {
      "text/plain": [
       "{'김철수': 800, 'Anna': 180}"
      ]
     },
     "execution_count": 9,
     "metadata": {},
     "output_type": "execute_result"
    }
   ],
   "source": [
    "# 값 수정하기2\n",
    "dict = {'김철수': 300, 'Anna': 180}\n",
    "dict['김철수'] += 500\n",
    "dict # {'Anna': 180, '김철수': 800}"
   ]
  },
  {
   "cell_type": "markdown",
   "metadata": {},
   "source": [
    "### 📌 Delete\n",
    "딕셔너리에서 특정 key값을 지울 때에 다음과 같은 방법을 사용할 수 있다.\n",
    "1. **del dict_obj[key]**\n",
    "\n",
    "del은 키워드로써, 만약 딕셔너리에 key가 없다면 keyError가 발생한다.\n",
    "\n",
    "2. **pop(key[,default])**\n",
    "\n",
    "pop은 메소드로써, pop메소드는 key 값에 해당하는 value를 리턴한다. key가 없다면 두번째 파라미터인 default를 리턴한다.<br/>\n",
    "\n",
    "만약 default 설정하지 않았을 시엔 keyError가 발생한다."
   ]
  },
  {
   "cell_type": "code",
   "execution_count": 10,
   "metadata": {},
   "outputs": [
    {
     "data": {
      "text/plain": [
       "{'Anna': 180}"
      ]
     },
     "execution_count": 10,
     "metadata": {},
     "output_type": "execute_result"
    }
   ],
   "source": [
    "# del 이용하기 - 키가 있는 경우\n",
    "\n",
    "dict = {'김철수': 300, 'Anna': 180}\n",
    "del dict['김철수']\n",
    "\n",
    "dict #{'Anna': 180}"
   ]
  },
  {
   "cell_type": "code",
   "execution_count": 11,
   "metadata": {},
   "outputs": [
    {
     "ename": "KeyError",
     "evalue": "'홍길동'",
     "output_type": "error",
     "traceback": [
      "\u001b[0;31m---------------------------------------------------------------------------\u001b[0m",
      "\u001b[0;31mKeyError\u001b[0m                                  Traceback (most recent call last)",
      "Cell \u001b[0;32mIn [11], line 3\u001b[0m\n\u001b[1;32m      1\u001b[0m \u001b[39m# del 이용하기 - 키가 없는 경우 raise KeyError\u001b[39;00m\n\u001b[1;32m      2\u001b[0m my_dict \u001b[39m=\u001b[39m {\u001b[39m'\u001b[39m\u001b[39m김철수\u001b[39m\u001b[39m'\u001b[39m: \u001b[39m300\u001b[39m, \u001b[39m'\u001b[39m\u001b[39mAnna\u001b[39m\u001b[39m'\u001b[39m: \u001b[39m180\u001b[39m}\n\u001b[0;32m----> 3\u001b[0m \u001b[39mdel\u001b[39;00m my_dict[\u001b[39m'\u001b[39;49m\u001b[39m홍길동\u001b[39;49m\u001b[39m'\u001b[39;49m] \n\u001b[1;32m      4\u001b[0m \u001b[39m'''\u001b[39;00m\n\u001b[1;32m      5\u001b[0m \u001b[39mkeyError 발생!\u001b[39;00m\n\u001b[1;32m      6\u001b[0m \u001b[39m'''\u001b[39;00m\n",
      "\u001b[0;31mKeyError\u001b[0m: '홍길동'"
     ]
    }
   ],
   "source": [
    "# del 이용하기 - 키가 없는 경우 raise KeyError\n",
    "my_dict = {'김철수': 300, 'Anna': 180}\n",
    "del my_dict['홍길동'] \n",
    "'''\n",
    "keyError 발생!\n",
    "'''"
   ]
  },
  {
   "cell_type": "code",
   "execution_count": 12,
   "metadata": {},
   "outputs": [
    {
     "name": "stdout",
     "output_type": "stream",
     "text": [
      "300\n"
     ]
    }
   ],
   "source": [
    "# pop 이용하기 - 키가 있는 경우 대응하는 value 리턴\n",
    "my_dict = {'김철수': 300, 'Anna': 180}\n",
    "res = my_dict.pop('김철수', 180) # 300\n",
    "print(res)"
   ]
  },
  {
   "cell_type": "code",
   "execution_count": 13,
   "metadata": {},
   "outputs": [
    {
     "name": "stdout",
     "output_type": "stream",
     "text": [
      "180\n"
     ]
    }
   ],
   "source": [
    "# pop 이용하기 - 키가 없는 경우 대응하는 default 리턴\n",
    "my_dict = {'김철수': 300, 'Anna': 180}\n",
    "res = my_dict.pop('홍길동', 180) # 180\n",
    "print(res)"
   ]
  },
  {
   "cell_type": "code",
   "execution_count": 14,
   "metadata": {},
   "outputs": [
    {
     "data": {
      "text/plain": [
       "{'김철수': 300, 'Anna': 180}"
      ]
     },
     "execution_count": 14,
     "metadata": {},
     "output_type": "execute_result"
    }
   ],
   "source": [
    "my_dict"
   ]
  },
  {
   "cell_type": "markdown",
   "metadata": {},
   "source": [
    "### 📌 Iterate\n",
    "딕셔너리를 for문을 이용하여 조회할 때 두가지 방법\n",
    "1. key로만 순회하기\n",
    "2. key, value동시 순회하기(items() 사용)"
   ]
  },
  {
   "cell_type": "code",
   "execution_count": 15,
   "metadata": {},
   "outputs": [
    {
     "name": "stdout",
     "output_type": "stream",
     "text": [
      "김철수\n",
      "Anna\n"
     ]
    },
    {
     "data": {
      "text/plain": [
       "'\\n김철수\\nAnna\\n'"
      ]
     },
     "execution_count": 15,
     "metadata": {},
     "output_type": "execute_result"
    }
   ],
   "source": [
    "# key로만 순회\n",
    "dict = {'김철수': 300, 'Anna': 180}\n",
    "for key in dict:\n",
    "    print(key)\n",
    "    # 이 경우 value를 찾고 싶으면 dict[key] 와 같이 접근을 따로 해주어야.\n",
    "\n",
    "'''\n",
    "김철수\n",
    "Anna\n",
    "'''"
   ]
  },
  {
   "cell_type": "code",
   "execution_count": 16,
   "metadata": {},
   "outputs": [
    {
     "name": "stdout",
     "output_type": "stream",
     "text": [
      "김철수 300\n",
      "Anna 180\n"
     ]
    },
    {
     "data": {
      "text/plain": [
       "'\\n김철수 300\\nAnna 180\\n'"
      ]
     },
     "execution_count": 16,
     "metadata": {},
     "output_type": "execute_result"
    }
   ],
   "source": [
    "# key-value 동시 순회\n",
    "dict = {'김철수': 300, 'Anna': 180}\n",
    "for key, value in dict.items():\n",
    "    print(key, value)\n",
    "\n",
    "'''\n",
    "김철수 300\n",
    "Anna 180\n",
    "'''"
   ]
  },
  {
   "cell_type": "markdown",
   "metadata": {},
   "source": [
    "## 그 밖에 딕셔너리 유용한 팁\n",
    "### 📌 특정 key가 딕셔너리에 있는지 없는지 조회할 때 - in 사용"
   ]
  },
  {
   "cell_type": "code",
   "execution_count": 17,
   "metadata": {},
   "outputs": [
    {
     "name": "stdout",
     "output_type": "stream",
     "text": [
      "True\n",
      "False\n"
     ]
    }
   ],
   "source": [
    "dict = {'김철수': 300, 'Anna': 180}\n",
    "print(\"김철수\" in dict) #True\n",
    "print(\"김철수\" not in dict) # False"
   ]
  },
  {
   "cell_type": "markdown",
   "metadata": {},
   "source": [
    "### 📌 key 또는 value만 뽑아내는 방법"
   ]
  },
  {
   "cell_type": "code",
   "execution_count": 18,
   "metadata": {},
   "outputs": [
    {
     "data": {
      "text/plain": [
       "dict_keys(['김철수', 'Anna'])"
      ]
     },
     "execution_count": 18,
     "metadata": {},
     "output_type": "execute_result"
    }
   ],
   "source": [
    "# key를 extract - keys 사용\n",
    "my_dict = {'김철수': 300, 'Anna': 180}\n",
    "my_dict.keys() # dict_keys(['김철수', 'Anna'])"
   ]
  },
  {
   "cell_type": "code",
   "execution_count": 19,
   "metadata": {},
   "outputs": [
    {
     "data": {
      "text/plain": [
       "dict_values([300, 180])"
      ]
     },
     "execution_count": 19,
     "metadata": {},
     "output_type": "execute_result"
    }
   ],
   "source": [
    "# value를 extract - values 사용\n",
    "my_dict = {'김철수': 300, 'Anna': 180}\n",
    "my_dict.values() # dict_values([300, 180])"
   ]
  },
  {
   "cell_type": "code",
   "execution_count": 20,
   "metadata": {},
   "outputs": [
    {
     "data": {
      "text/plain": [
       "dict_items([('김철수', 300), ('Anna', 180)])"
      ]
     },
     "execution_count": 20,
     "metadata": {},
     "output_type": "execute_result"
    }
   ],
   "source": [
    "# key, value 쌍을 extract - items 사용\n",
    "my_dict = {'김철수': 300, 'Anna': 180}\n",
    "my_dict.items() # dict_items([('김철수', 300), ('Anna', 180)])"
   ]
  }
 ],
 "metadata": {
  "kernelspec": {
   "display_name": "Python 3",
   "language": "python",
   "name": "python3"
  },
  "language_info": {
   "codemirror_mode": {
    "name": "ipython",
    "version": 3
   },
   "file_extension": ".py",
   "mimetype": "text/x-python",
   "name": "python",
   "nbconvert_exporter": "python",
   "pygments_lexer": "ipython3",
   "version": "3.11.0"
  },
  "orig_nbformat": 4,
  "vscode": {
   "interpreter": {
    "hash": "5c7b89af1651d0b8571dde13640ecdccf7d5a6204171d6ab33e7c296e100e08a"
   }
  }
 },
 "nbformat": 4,
 "nbformat_minor": 2
}
